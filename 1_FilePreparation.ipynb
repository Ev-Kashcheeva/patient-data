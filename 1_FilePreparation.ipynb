{
 "cells": [
  {
   "cell_type": "code",
   "execution_count": 5,
   "metadata": {},
   "outputs": [],
   "source": [
    "# delete quotes, delete \"provider\" data\n",
    "def replace_commas(catalog1, catalog2):\n",
    "    for i in range(1, 413):\n",
    "        infile = catalog1 + '\\cases (' + str(i) + ').csv'\n",
    "        outname = catalog2 + '\\cases (' + str(i) + ').csv'\n",
    "        lines = 'patient;date;category;parameter;value;smth;smth1\\n'\n",
    "        outfile = open(outname,'w')\n",
    "        outfile.write(lines)\n",
    "        with open(infile, 'r+') as f:\n",
    "            for line in f:\n",
    "                if line.find('provider') == -1:  # or line.find('preview') == -1\n",
    "                    line = line.replace('\"no\"', '\"0\"')\n",
    "                    line = line.replace('\"yes\"', '\"1\"')\n",
    "                    line = line.replace('\"none\"', '\"0\"')\n",
    "                    line = line.replace('\"low\"', '\"1\"')\n",
    "                    line = line.replace('\"partial\"', '\"2\"')\n",
    "                    line = line.replace('\"full\"', '\"3\"')\n",
    "                    line = line.replace('\"negative\"', '\"-1\"') #???\n",
    "                    line = line.replace('\"positive\"', '\"1\"') #???\n",
    "                    line = line.replace('\"notperformed\"', '\"0\"') #???\n",
    "                    line = line.replace('\"', '')\n",
    "                    line = line.replace(',', ';')\n",
    "                    \n",
    "                    outfile.write(line)\n",
    "        outfile.close()\n",
    "\n",
    "replace_commas('input', 'output')"
   ]
  },
  {
   "cell_type": "code",
   "execution_count": 6,
   "metadata": {},
   "outputs": [],
   "source": [
    "# converting\n",
    "from pandas.io.parsers import read_csv\n",
    "for i in range(1, 413):\n",
    "    fname = 'output\\cases (' + str(i) + ').csv'\n",
    "    fname1 = 'output1\\cases (' + str(i) + ').csv'\n",
    "    df = read_csv(fname, sep = ';')\n",
    "    titles = ''\n",
    "    vals = ''\n",
    "    titles = df.columns[0] + ';' + df.columns[1]\n",
    "    for param in df['parameter'].values:\n",
    "        titles += ';' + param\n",
    "        \n",
    "    titles = titles + '\\n'\n",
    "                  \n",
    "    numb = df['patient'].values[0]\n",
    "    date = df['date'].values[0]\n",
    "\n",
    "    vals = str(numb) + ';' + str(date)\n",
    "\n",
    "    for val in df['value'].values:\n",
    "        vals += ';' + str(val) \n",
    "        \n",
    "    vals = vals + '\\n' \n",
    "    \n",
    "    with open(fname1, 'w') as f:\n",
    "        f.write(titles)\n",
    "        f.write(vals)"
   ]
  },
  {
   "cell_type": "code",
   "execution_count": 7,
   "metadata": {},
   "outputs": [],
   "source": [
    "# getting unique header values\n",
    "from pandas.io.parsers import read_csv\n",
    "fname = 'output1\\cases (1).csv'\n",
    "df = read_csv(fname, sep = ';')\n",
    "all_titles = set(df.columns.unique())\n",
    "\n",
    "for i in range(2, 413):\n",
    "    fname1 = 'output1\\cases (' + str(i) + ').csv'\n",
    "    df1 = read_csv(fname1, sep = ';')\n",
    "    all_titles = all_titles | set(df1.columns.unique())\n",
    "    \n",
    "all_titles = str(all_titles).replace(\"'\", \"\")\n",
    "all_titles = all_titles.replace('{', '')\n",
    "all_titles = all_titles.replace('}', '')\n",
    "all_titles = all_titles.replace(',', ';')\n",
    "all_titles = all_titles.replace(' ', '')\n",
    "\n",
    "with open('all_cases.csv', 'w') as f:\n",
    "    f.write(all_titles + '\\n')"
   ]
  },
  {
   "cell_type": "code",
   "execution_count": 8,
   "metadata": {},
   "outputs": [],
   "source": [
    "# merge into one common file\n",
    "from pandas.io.parsers import read_csv\n",
    "df = read_csv('all_cases.csv', sep = ';')\n",
    "ss = ''  \n",
    "for k in range(1, 413):\n",
    "    fname = 'output1\\cases (' + str(k) + ').csv'\n",
    "    df1 = read_csv(fname, sep = ';')\n",
    "    for i in range(0, len(df.columns)):\n",
    "        for j in range(0, len(df1.columns)):\n",
    "            if str(df.columns[i]) == str(df1.columns[j]):\n",
    "                ss += str(df1.iloc[0, j])\n",
    "        if i != len(df.columns) - 1:\n",
    "            ss += ';'\n",
    "            \n",
    "    ss += '\\n'        \n",
    "    \n",
    "with open('all_cases.csv', 'a') as f:\n",
    "    f.write(ss)"
   ]
  }
 ],
 "metadata": {
  "kernelspec": {
   "display_name": "Python 3",
   "language": "python",
   "name": "python3"
  },
  "language_info": {
   "codemirror_mode": {
    "name": "ipython",
    "version": 3
   },
   "file_extension": ".py",
   "mimetype": "text/x-python",
   "name": "python",
   "nbconvert_exporter": "python",
   "pygments_lexer": "ipython3",
   "version": "3.7.0"
  }
 },
 "nbformat": 4,
 "nbformat_minor": 2
}
